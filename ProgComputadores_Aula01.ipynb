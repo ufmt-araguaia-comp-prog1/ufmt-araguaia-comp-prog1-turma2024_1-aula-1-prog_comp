{
  "cells": [
    {
      "cell_type": "markdown",
      "metadata": {
        "id": "view-in-github",
        "colab_type": "text"
      },
      "source": [
        "<a href=\"https://colab.research.google.com/github/ivairton/prog_comp/blob/main/ProgComputadores_Aula01.ipynb\" target=\"_parent\"><img src=\"https://colab.research.google.com/assets/colab-badge.svg\" alt=\"Open In Colab\"/></a>"
      ]
    },
    {
      "cell_type": "markdown",
      "source": [
        "<h3>UNIVERSIDADE FEDERAL DE MATO GROSSO<br>\n",
        "CAMPUS UNIVERSITÁRIO DO ARAGUAIA<br>\n",
        "Curso de Bacharelado em Ciência da Computação</h3>\n",
        "\n",
        "<h2><b>Disciplina de Programação de Computadores</b></h2>\n",
        "\n",
        "<i>Material desenvolvido pelos professores:</i><br>\n",
        "Prof. Dr. Ivairton Monteiro Santos<br>\n",
        "Prof. Dr. Linder Cândido da Silva"
      ],
      "metadata": {
        "id": "l0SQbcH-SGFP"
      }
    },
    {
      "cell_type": "markdown",
      "metadata": {
        "editable": false,
        "tags": [],
        "id": "XkZr_xYDSEfa"
      },
      "source": [
        " <h1>\n",
        " <center><b>Aula 1</b></center></br>\n",
        " <center>Introdução à Linguagem Python</center>\n",
        " </h1>\n",
        ""
      ]
    },
    {
      "cell_type": "markdown",
      "metadata": {
        "editable": false,
        "tags": [],
        "id": "QxmtZiFYSEfd"
      },
      "source": [
        "Nesta aula serão apresentados os recursos básicos da linguagem Python. Presumimos que você já sabe o que é um notebook e como testar os comandos Python que aparecerão ao longo da aula. Usaremos notebooks para possibilitar a introdução de conceitos e imediatamente testá-los, a fim de deixar a aula mais dinâmica.\n",
        "\n",
        "Os objetivos específicos são os seguintes:\n",
        "* Conhecer os tipos de dados básicos da linguagem Python;\n",
        "* Definir e usar variáveis dos tipos básicos integrados à linguagem Python;\n",
        "* Usar operadores aritméticos e relacionais, bem como entender as relações de precedência impostas pela linguagem Python;\n",
        "* Usar operadores lógicos, bem como entender as relações de precedência impostas pela linguagem Python;\n",
        "* Usar strings com aspas simples, duplas e triplas;\n",
        "* Usar a função integrada `print()` para exibir texto;\n",
        "* Usar a função integrada `input()` para entrada de dados via teclado;\n",
        "* Converter strings em valores numéricos usando as funções integradas `int()` e `float()`;\n",
        "* Usar a função integrada `type()` para obter o tipo de um objeto Python;\n",
        "* Entender o básico sobre objetos e a tipagem dinâmica de Python."
      ]
    },
    {
      "cell_type": "markdown",
      "metadata": {
        "editable": false,
        "tags": [],
        "id": "59ZlW3wDSEfe"
      },
      "source": [
        "# 1.1 Operações Aritméticas"
      ]
    },
    {
      "cell_type": "markdown",
      "metadata": {
        "editable": false,
        "tags": [],
        "id": "i9FURrSvSEff"
      },
      "source": [
        "### Multiplicação (`*`)\n",
        "Em Python a operação matemática de multiplicação ($a \\times b$) é feita com o operador binário `*`, ou seja, a operação é codificada como `a * b`. Operadores binários são aqueles que empregam dois operandos.\n",
        "\n",
        "São exemplos de códigos com multiplicação:"
      ]
    },
    {
      "cell_type": "code",
      "source": [
        "7 * 5"
      ],
      "metadata": {
        "colab": {
          "base_uri": "https://localhost:8080/"
        },
        "id": "EfAJ6md-VLVd",
        "outputId": "74b5f46e-4381-45cd-cfcf-35ddd9977858"
      },
      "execution_count": 1,
      "outputs": [
        {
          "output_type": "execute_result",
          "data": {
            "text/plain": [
              "35"
            ]
          },
          "metadata": {},
          "execution_count": 1
        }
      ]
    },
    {
      "cell_type": "code",
      "execution_count": null,
      "metadata": {
        "editable": false,
        "tags": [],
        "id": "yD5t_dpRSEfi",
        "outputId": "14ad0516-4386-465e-952f-3a478dd7e3a0"
      },
      "outputs": [
        {
          "data": {
            "text/plain": [
              "-12"
            ]
          },
          "execution_count": 3,
          "metadata": {},
          "output_type": "execute_result"
        }
      ],
      "source": [
        "(-3) * 4"
      ]
    },
    {
      "cell_type": "markdown",
      "metadata": {
        "editable": false,
        "tags": [],
        "id": "5HvZa4B9SEfj"
      },
      "source": [
        "### Exponenciação (`**`)\n",
        "Em Python a operação matemática de exponenciação ($a^b$) é feita com o operador binário `**`, ou seja, a operação é codificada como `a ** b`."
      ]
    },
    {
      "cell_type": "code",
      "source": [
        "3 ** 2"
      ],
      "metadata": {
        "colab": {
          "base_uri": "https://localhost:8080/"
        },
        "id": "Czp_lLcDVlkZ",
        "outputId": "cb739577-30d9-4033-eb78-42a0df53c26d"
      },
      "execution_count": 3,
      "outputs": [
        {
          "output_type": "execute_result",
          "data": {
            "text/plain": [
              "9"
            ]
          },
          "metadata": {},
          "execution_count": 3
        }
      ]
    },
    {
      "cell_type": "code",
      "execution_count": null,
      "metadata": {
        "editable": false,
        "tags": [],
        "id": "p-VWqtM2SEfj",
        "outputId": "ace02536-4ce3-4961-c444-f3b01ea70cbe"
      },
      "outputs": [
        {
          "data": {
            "text/plain": [
              "1024"
            ]
          },
          "execution_count": 4,
          "metadata": {},
          "output_type": "execute_result"
        }
      ],
      "source": [
        "2 ** 10"
      ]
    },
    {
      "cell_type": "code",
      "execution_count": null,
      "metadata": {
        "editable": false,
        "tags": [],
        "id": "sS-Q2bOOSEfk",
        "outputId": "d81cff09-78f3-41b2-d594-57dcab693cca"
      },
      "outputs": [
        {
          "data": {
            "text/plain": [
              "3.0"
            ]
          },
          "execution_count": 5,
          "metadata": {},
          "output_type": "execute_result"
        }
      ],
      "source": [
        "9 ** (1 / 2)"
      ]
    },
    {
      "cell_type": "markdown",
      "metadata": {
        "editable": false,
        "tags": [],
        "id": "XchthrVbSEfl"
      },
      "source": [
        "### Divisão (`/`)\n",
        "Em Python a operação matemática de divisão ($a \\div b$) é feita com o operador binário `/`, ou seja, a operação é codificada como `a / b`."
      ]
    },
    {
      "cell_type": "code",
      "execution_count": 4,
      "metadata": {
        "editable": false,
        "tags": [],
        "colab": {
          "base_uri": "https://localhost:8080/"
        },
        "id": "FjVpC-HCSEfm",
        "outputId": "c24ee92f-a9e7-41b2-9b26-5c163c05738f"
      },
      "outputs": [
        {
          "output_type": "execute_result",
          "data": {
            "text/plain": [
              "1.75"
            ]
          },
          "metadata": {},
          "execution_count": 4
        }
      ],
      "source": [
        "7 / 4"
      ]
    },
    {
      "cell_type": "code",
      "execution_count": 6,
      "metadata": {
        "editable": false,
        "tags": [],
        "colab": {
          "base_uri": "https://localhost:8080/"
        },
        "id": "KXDGzRYQSEfm",
        "outputId": "20f1a01c-b690-4a4b-83a3-9eaa2beea36a"
      },
      "outputs": [
        {
          "output_type": "execute_result",
          "data": {
            "text/plain": [
              "-3.25"
            ]
          },
          "metadata": {},
          "execution_count": 6
        }
      ],
      "source": [
        "-13 / 4"
      ]
    },
    {
      "cell_type": "markdown",
      "metadata": {
        "editable": false,
        "tags": [],
        "id": "PgVJM9doSEfn"
      },
      "source": [
        "### Divisão inteira (`//`)\n",
        "Em Python a operação matemática de divisão inteira ($\\lfloor a \\div b \\rfloor$) é feita com o operador binário `//`, ou seja, a operação é codificada como `a // b`. A operação resulta no arredondamento para o maior inteiro menor que o resultado da divisão (descarte da precisão)."
      ]
    },
    {
      "cell_type": "code",
      "execution_count": null,
      "metadata": {
        "editable": false,
        "tags": [],
        "id": "Ch4CJt2PSEfn",
        "outputId": "c865aa54-825d-48d1-fe0b-c3c9e79c5406"
      },
      "outputs": [
        {
          "data": {
            "text/plain": [
              "1"
            ]
          },
          "execution_count": 6,
          "metadata": {},
          "output_type": "execute_result"
        }
      ],
      "source": [
        "7 // 4"
      ]
    },
    {
      "cell_type": "code",
      "execution_count": null,
      "metadata": {
        "editable": false,
        "tags": [],
        "id": "lTRVcgQxSEfo",
        "outputId": "f3530dd4-a770-432a-d0de-00a7a28ce399"
      },
      "outputs": [
        {
          "data": {
            "text/plain": [
              "0"
            ]
          },
          "execution_count": 7,
          "metadata": {},
          "output_type": "execute_result"
        }
      ],
      "source": [
        "3 // 5"
      ]
    },
    {
      "cell_type": "code",
      "execution_count": 7,
      "metadata": {
        "editable": false,
        "tags": [],
        "colab": {
          "base_uri": "https://localhost:8080/"
        },
        "id": "Wu15VocpSEfo",
        "outputId": "212d7b1b-7613-4e0e-f295-647d3eb51641"
      },
      "outputs": [
        {
          "output_type": "execute_result",
          "data": {
            "text/plain": [
              "2"
            ]
          },
          "metadata": {},
          "execution_count": 7
        }
      ],
      "source": [
        "14 // 7"
      ]
    },
    {
      "cell_type": "code",
      "execution_count": 8,
      "metadata": {
        "editable": false,
        "tags": [],
        "colab": {
          "base_uri": "https://localhost:8080/"
        },
        "id": "AZ2ApPsrSEfo",
        "outputId": "e76ce677-59c7-4279-eff3-06f86c6f9427"
      },
      "outputs": [
        {
          "output_type": "execute_result",
          "data": {
            "text/plain": [
              "-4"
            ]
          },
          "metadata": {},
          "execution_count": 8
        }
      ],
      "source": [
        "-13 // 4"
      ]
    },
    {
      "cell_type": "markdown",
      "metadata": {
        "editable": false,
        "tags": [],
        "id": "tyvOoe2wSEfq"
      },
      "source": [
        "### Módulo (ou Resto da Divisão) `%`\n",
        "Quando a divisão entre dois números não é perfeita, o resultado consiste em dois números chamados de quociente e o resto. O operador `%`é usado para obter o resto da divisão, ao passo que o quociente pode ser obtido com o operador `//` (estudado anteriormente)."
      ]
    },
    {
      "cell_type": "code",
      "execution_count": 10,
      "metadata": {
        "editable": false,
        "tags": [],
        "colab": {
          "base_uri": "https://localhost:8080/"
        },
        "id": "rTx2HYQLSEfq",
        "outputId": "edba221f-c2f0-495e-d627-691f019a27d4"
      },
      "outputs": [
        {
          "output_type": "execute_result",
          "data": {
            "text/plain": [
              "2"
            ]
          },
          "metadata": {},
          "execution_count": 10
        }
      ],
      "source": [
        "17 % 5"
      ]
    },
    {
      "cell_type": "code",
      "execution_count": 11,
      "metadata": {
        "editable": false,
        "tags": [],
        "colab": {
          "base_uri": "https://localhost:8080/"
        },
        "id": "uEwWl2fSSEfr",
        "outputId": "c8777ef4-37ca-432b-fbfc-4aa2cb74822b"
      },
      "outputs": [
        {
          "output_type": "execute_result",
          "data": {
            "text/plain": [
              "0.5"
            ]
          },
          "metadata": {},
          "execution_count": 11
        }
      ],
      "source": [
        "7.5 % 3.5"
      ]
    },
    {
      "cell_type": "markdown",
      "metadata": {
        "editable": false,
        "tags": [],
        "id": "URQgGjvISEfp"
      },
      "source": [
        "### Exceções e rastreamentos (Exceptions e Tracebacks)"
      ]
    },
    {
      "cell_type": "markdown",
      "metadata": {
        "editable": false,
        "tags": [],
        "id": "hi1CdEkRSEfp"
      },
      "source": [
        "Uma exceção é um sinal de que ocorreu um problema. Por exemplo, sabemos que a divisão de um número por zero é indefinida (erro matemático). Logo, dividir por zero com / ou // não é permitido e resulta em uma exceção (erro de programação) do tipo `ZeroDivisionError`."
      ]
    },
    {
      "cell_type": "code",
      "execution_count": 9,
      "metadata": {
        "editable": false,
        "tags": [],
        "colab": {
          "base_uri": "https://localhost:8080/",
          "height": 141
        },
        "id": "eWfmvsAYSEfp",
        "outputId": "54babfe7-bc8f-49d9-b987-f2e4fbcee096"
      },
      "outputs": [
        {
          "output_type": "error",
          "ename": "ZeroDivisionError",
          "evalue": "division by zero",
          "traceback": [
            "\u001b[0;31m---------------------------------------------------------------------------\u001b[0m",
            "\u001b[0;31mZeroDivisionError\u001b[0m                         Traceback (most recent call last)",
            "\u001b[0;32m<ipython-input-9-76e1a9ab9410>\u001b[0m in \u001b[0;36m<cell line: 1>\u001b[0;34m()\u001b[0m\n\u001b[0;32m----> 1\u001b[0;31m \u001b[0;36m123\u001b[0m \u001b[0;34m/\u001b[0m \u001b[0;36m0\u001b[0m\u001b[0;34m\u001b[0m\u001b[0;34m\u001b[0m\u001b[0m\n\u001b[0m",
            "\u001b[0;31mZeroDivisionError\u001b[0m: division by zero"
          ]
        }
      ],
      "source": [
        "123 / 0"
      ]
    },
    {
      "cell_type": "markdown",
      "metadata": {
        "editable": false,
        "tags": [],
        "id": "FiZ6MwdsSEfq"
      },
      "source": [
        "Python relata uma exceção com um *traceback* que, neste caso, indica que ocorreu uma exceção do tipo ZeroDivisionError — a maioria dos nomes de exceções termina com Error. Ao longo do curso discutiremos muito mais sobre Exceções, que podem ocorrer em diversas situações (acesso de memória inválida, execuções de ações inválidas, falha de conexão, entre outras)."
      ]
    },
    {
      "cell_type": "markdown",
      "metadata": {
        "editable": false,
        "tags": [],
        "id": "nEUldYj1SEfr"
      },
      "source": [
        "### Parênteses"
      ]
    },
    {
      "cell_type": "markdown",
      "metadata": {
        "editable": false,
        "tags": [],
        "id": "-RV-kNMpSEfr"
      },
      "source": [
        "Assim como são usados nas expressões algébricas, os parênteses são usados em Python para agrupar expressões matemáticas e forçar precedência de execução das operações aritméticas. Compare os seguintes exemplos:"
      ]
    },
    {
      "cell_type": "code",
      "execution_count": null,
      "metadata": {
        "editable": false,
        "tags": [],
        "id": "CBAm08mySEfr"
      },
      "outputs": [],
      "source": [
        "10 * (5 + 3)"
      ]
    },
    {
      "cell_type": "code",
      "execution_count": null,
      "metadata": {
        "editable": false,
        "tags": [],
        "id": "Iutak0itSEfs"
      },
      "outputs": [],
      "source": [
        "10 * 5 + 3"
      ]
    },
    {
      "cell_type": "code",
      "execution_count": null,
      "metadata": {
        "editable": false,
        "tags": [],
        "id": "M79iLL14SEfs"
      },
      "outputs": [],
      "source": [
        "10 * 6 + 3 / 3"
      ]
    },
    {
      "cell_type": "code",
      "execution_count": null,
      "metadata": {
        "editable": false,
        "tags": [],
        "id": "cX3RnXzSSEfs"
      },
      "outputs": [],
      "source": [
        "10 * (6 + 3) / 3"
      ]
    },
    {
      "cell_type": "markdown",
      "metadata": {
        "editable": false,
        "jp-MarkdownHeadingCollapsed": true,
        "tags": [],
        "id": "0WBSbNOJSEft"
      },
      "source": [
        "### Regras de Precedência de Operadores Aritméticos\n",
        "Python aplica os operadores presentes em expressões aritméticas de acordo com as seguintes regras de precedência:\n",
        "1. As expressões definidas entre parênteses são avaliadas primeiro. Portanto, os parênteses podem forçar a ordem de avaliação em qualquer sequência desejada. Em expressões com parênteses aninhados, como (a / (b - c)), a expressão entre os parênteses mais internos (ou seja, b - c) é avaliada primeiro.\n",
        "2. As operações de exponenciação são avaliadas a seguir. Se uma expressão contém diversas operações de exponenciação, Python as aplica da direita para a esquerda.\n",
        "3. As operações de multiplicação, divisão e módulo são as próximas a serem avaliadas. Se uma expressão contém diversas operações de multiplicação, divisão e módulo, *Python as aplica da esquerda para a direita*.\n",
        "4. As operações de adição e subtração são avaliadas por último. Se uma expressão contém diversas operações de adição e subtração, *Python as aplica da esquerda para a direita*.\n",
        "\n",
        "Essas regras serão expandidas à medida que outros operadores forem introduzidos. Uma lista completa de operadores e suas precedências pode ser encontrada no seguinte endereço: https://docs.python.org/3/reference/expressions.html#operator-precedence.\n",
        "\n",
        "\n",
        "### Tipos dos Dados Resultantes das Operações Aritméticas\n",
        "Os operadores aritméticos podem ser usados com operandos inteiros e de ponto flutuante. Se ambos os operandos forem inteiros, o resultado será um número inteiro — exceto para o operador de divisão (/), que sempre produz um número em ponto flutuante. Se ambos os operandos forem números em ponto flutuante, o resultado será um número em ponto flutuante. Expressões contendo um número inteiro e um número de ponto flutuante são expressões de tipo misto, as quais sempre produzem números em ponto flutuante."
      ]
    },
    {
      "cell_type": "markdown",
      "metadata": {
        "editable": false,
        "tags": [],
        "id": "3wBp_o3nSEft"
      },
      "source": [
        "### Estilo de Codificação"
      ]
    },
    {
      "cell_type": "markdown",
      "metadata": {
        "editable": false,
        "tags": [],
        "id": "tJiSwZULSEft"
      },
      "source": [
        "O Guia de estilo para codificação em Python ([PEP 8](https://peps.python.org/pep-0008/)) recomenda inserir um espaço em cada lado de operadores aritméticos i-nários, tais como +, -, * e /, para tornar os programas mais legíveis. Portanto, são exemplo de boa formatação de código com operadores:\n",
        "\n",
        "`2 + 4`\n",
        "\n",
        "`(3 - 1) * 7`"
      ]
    },
    {
      "cell_type": "markdown",
      "source": [
        "\n",
        "\n",
        "---\n",
        "\n"
      ],
      "metadata": {
        "id": "8jQg08J8aNVN"
      }
    },
    {
      "cell_type": "markdown",
      "metadata": {
        "editable": false,
        "tags": [],
        "id": "us7_nlY0SEfu"
      },
      "source": [
        "# 1.2 Variáveis e Comandos de Atribuição"
      ]
    },
    {
      "cell_type": "markdown",
      "metadata": {
        "editable": false,
        "tags": [],
        "id": "EZ_OzvZKSEfu"
      },
      "source": [
        "Um programa consiste em uma sequência de instruções, bem como dados (tais como números) armazenados na memória do computador. Uma __variável__ é um nome usado para referenciar um dado armazenado na memória. Chamamos essas entidades de variáveis porque ao longo da execução do programa o valor armazenado (referenciado) pode mudar.\n",
        "\n",
        "Vamos começar criando variáveis numéricas simples, mas ao longo do curso vocês se familiarizarão com variáveis que referenciam dados mais complexos. Os próximos exemplos criam as variáveis x e y que armazenam, respectivamente, os inteiros 7 e 3."
      ]
    },
    {
      "cell_type": "code",
      "execution_count": 12,
      "metadata": {
        "editable": false,
        "tags": [],
        "id": "nBMxw8BRSEfu"
      },
      "outputs": [],
      "source": [
        "x = 7   # A posição em memória referenciada por x recebe o valor 7"
      ]
    },
    {
      "cell_type": "code",
      "execution_count": 13,
      "metadata": {
        "editable": false,
        "tags": [],
        "id": "iIZZIO6-SEfu"
      },
      "outputs": [],
      "source": [
        "y = 3   # A posição em memória referenciada por y recebe o valor 3"
      ]
    },
    {
      "cell_type": "code",
      "execution_count": 14,
      "metadata": {
        "colab": {
          "base_uri": "https://localhost:8080/"
        },
        "id": "2Giq8aa6SEfv",
        "outputId": "f50ae47d-ce08-4ece-c71a-efd4fbfa9fe5"
      },
      "outputs": [
        {
          "output_type": "execute_result",
          "data": {
            "text/plain": [
              "7"
            ]
          },
          "metadata": {},
          "execution_count": 14
        }
      ],
      "source": [
        "x   # Apresenta o valor de x"
      ]
    },
    {
      "cell_type": "code",
      "source": [
        "x + y   # Apresenta o valor correspondente a x + y"
      ],
      "metadata": {
        "colab": {
          "base_uri": "https://localhost:8080/"
        },
        "id": "74c-8Z8cafUF",
        "outputId": "7c9bb49f-0d2a-45ef-cbdf-2e7a094c4b47"
      },
      "execution_count": 15,
      "outputs": [
        {
          "output_type": "execute_result",
          "data": {
            "text/plain": [
              "10"
            ]
          },
          "metadata": {},
          "execution_count": 15
        }
      ]
    },
    {
      "cell_type": "markdown",
      "metadata": {
        "editable": false,
        "tags": [],
        "id": "uh0VCbabSEfv"
      },
      "source": [
        "O operador `=` é chamado de operador de atribuição porque ele atribui um valor a uma variável (em pseudocódigo geralmente usamos o símbolo ←). Após a execução dos comandos acima, as variáveis x e y passam a fazer referência a posições de memória contendo os valores 7 e 3, respectivamente. O Guia de estilo para código Python ([PEP 8](https://peps.python.org/pep-0008/)) recomenda inserir um espaço em cada lado do símbolo de atribuição = para tornar os programas mais legíveis."
      ]
    },
    {
      "cell_type": "markdown",
      "metadata": {
        "editable": false,
        "tags": [],
        "id": "ULj3BYLDSEf1"
      },
      "source": [
        "### Nomes de Variáveis"
      ]
    },
    {
      "cell_type": "markdown",
      "metadata": {
        "editable": false,
        "tags": [],
        "id": "vO1LkbHISEf1"
      },
      "source": [
        "O nome de uma variável, tal como `x`, é um identificador. Identificadores podem incluir letras, dígitos e sublinhados (_), mas não podem começar com um dígito. Python diferencia maiúsculas de minúsculas, portanto as variáveis `número` e `Número` são consideredas diferentes porque uma começa com uma letra minúscula e a outra começa com uma letra maiúscula."
      ]
    },
    {
      "cell_type": "markdown",
      "metadata": {
        "editable": false,
        "tags": [],
        "id": "1c7d18rPSEf1"
      },
      "source": [
        "### Operações com Variáveis"
      ]
    },
    {
      "cell_type": "markdown",
      "metadata": {
        "editable": false,
        "tags": [],
        "id": "lBqkC8vGSEf2"
      },
      "source": [
        "Podemos operar com as variáveis da mesma forma que operaríamos com os dados referenciados por elas. Por exemplo, se as variáveis referenciam números, podemos somá-las, subtraí-las, multiplicá-las, etc. As operações que podem ser realizadas com uma variável dependem do seu tipo, ou melhor, depende do tipo do dado que elas referenciam."
      ]
    },
    {
      "cell_type": "code",
      "execution_count": null,
      "metadata": {
        "editable": false,
        "tags": [],
        "id": "hc5-KjcASEf2"
      },
      "outputs": [],
      "source": [
        "soma = x + y"
      ]
    },
    {
      "cell_type": "code",
      "execution_count": null,
      "metadata": {
        "editable": false,
        "scrolled": true,
        "tags": [],
        "id": "2fCYIHKPSEf2"
      },
      "outputs": [],
      "source": [
        "soma"
      ]
    },
    {
      "cell_type": "code",
      "execution_count": null,
      "metadata": {
        "editable": false,
        "tags": [],
        "id": "MOnv8sexSEf2"
      },
      "outputs": [],
      "source": [
        "diferenca = x - y"
      ]
    },
    {
      "cell_type": "code",
      "execution_count": null,
      "metadata": {
        "editable": false,
        "tags": [],
        "id": "5wJhpXAUSEf3"
      },
      "outputs": [],
      "source": [
        "diferenca"
      ]
    },
    {
      "cell_type": "code",
      "execution_count": null,
      "metadata": {
        "editable": false,
        "tags": [],
        "id": "K5Jrv5AdSEf3"
      },
      "outputs": [],
      "source": [
        "produto = x * y"
      ]
    },
    {
      "cell_type": "code",
      "execution_count": null,
      "metadata": {
        "editable": false,
        "tags": [],
        "id": "ngXsxTeuSEf3"
      },
      "outputs": [],
      "source": [
        "produto"
      ]
    },
    {
      "cell_type": "code",
      "execution_count": null,
      "metadata": {
        "editable": false,
        "tags": [],
        "id": "7uL9y1RySEf3"
      },
      "outputs": [],
      "source": [
        "x_quadrado = x ** 2"
      ]
    },
    {
      "cell_type": "code",
      "execution_count": null,
      "metadata": {
        "editable": false,
        "tags": [],
        "id": "UEyKT1leSEf4"
      },
      "outputs": [],
      "source": [
        "x_quadrado"
      ]
    },
    {
      "cell_type": "markdown",
      "metadata": {
        "editable": false,
        "tags": [],
        "id": "xnv-ro_XSEf4"
      },
      "source": [
        "### Tipos de Dados"
      ]
    },
    {
      "cell_type": "markdown",
      "metadata": {
        "editable": false,
        "tags": [],
        "id": "7WqgkSaJSEf4"
      },
      "source": [
        "Cada valor em Python possui um __tipo__ que indica o tamanho do dado em bytes, bem como as operações que podem ser realizadas sobre ele. Uma variável tem o tipo do dado que ela referencia. Você pode visualizar o tipo de um dado ou variável usando a função `type()`."
      ]
    },
    {
      "cell_type": "code",
      "execution_count": 16,
      "metadata": {
        "editable": false,
        "tags": [],
        "colab": {
          "base_uri": "https://localhost:8080/"
        },
        "id": "fR6gvvsaSEf4",
        "outputId": "9223e1a8-dc91-49f9-e98d-69c16aa9c70c"
      },
      "outputs": [
        {
          "output_type": "execute_result",
          "data": {
            "text/plain": [
              "int"
            ]
          },
          "metadata": {},
          "execution_count": 16
        }
      ],
      "source": [
        "type(x)"
      ]
    },
    {
      "cell_type": "code",
      "execution_count": 17,
      "metadata": {
        "editable": false,
        "tags": [],
        "colab": {
          "base_uri": "https://localhost:8080/"
        },
        "id": "T4CYsVbuSEf4",
        "outputId": "27bc7eb5-3c83-4c99-b1b1-656a30e4310a"
      },
      "outputs": [
        {
          "output_type": "execute_result",
          "data": {
            "text/plain": [
              "float"
            ]
          },
          "metadata": {},
          "execution_count": 17
        }
      ],
      "source": [
        "type(10.5)"
      ]
    },
    {
      "cell_type": "markdown",
      "metadata": {
        "editable": false,
        "tags": [],
        "id": "h720hdArSEf5"
      },
      "source": [
        "Nos exemplos acima usamos a função `type()`. Uma função executa uma tarefa quando você a chama escrevendo seu nome, seguido de parênteses `()`. Os parênteses contêm os argumentos da função, isto é, os dados que a função usa para realizar sua tarefa. No caso da função `type()` passamos como argumento um identificador de variável ou um literal para que a função determine o seu tipo. Em breve, aprenderemos como criar nossas próprias funções."
      ]
    },
    {
      "cell_type": "markdown",
      "metadata": {
        "editable": false,
        "tags": [],
        "id": "4LGbcZa3SEf5"
      },
      "source": [
        "### Exercícios:"
      ]
    },
    {
      "cell_type": "markdown",
      "metadata": {
        "editable": false,
        "tags": [],
        "id": "zDYeqYkJSEf5"
      },
      "source": [
        "1. Calcule a soma de `10.8`, `12.2` e `0.2`, armazene na variável `total`, e mostre o resultado.\n",
        "2. Inicialize a variável x com o valor 5 e então calcule $y = ax^3 + 7$ de duas formas diferentes."
      ]
    },
    {
      "cell_type": "code",
      "execution_count": null,
      "metadata": {
        "id": "Ms3f4F8ESEf6"
      },
      "outputs": [],
      "source": [
        "total = 10.8 + 12.2 + 0.2"
      ]
    },
    {
      "cell_type": "code",
      "execution_count": null,
      "metadata": {
        "id": "qVOcP4--SEf6"
      },
      "outputs": [],
      "source": [
        "total"
      ]
    },
    {
      "cell_type": "markdown",
      "source": [
        "\n",
        "\n",
        "---\n",
        "\n"
      ],
      "metadata": {
        "id": "6SaxFJ4gcCXw"
      }
    },
    {
      "cell_type": "markdown",
      "metadata": {
        "editable": false,
        "tags": [],
        "id": "e-r0DxqISEf6"
      },
      "source": [
        "# 1.3 A Função `print()`"
      ]
    },
    {
      "cell_type": "markdown",
      "metadata": {
        "editable": false,
        "tags": [],
        "id": "GOL8X2nqSEf6"
      },
      "source": [
        "A função integrada `print()` recebe uma lista de argumentos separados por vírgula e os exibe no monitor como uma linha de texto. Nos exemplos a seguir, o argumento `Bem-vindo ao Python!` é um objeto string definido como uma sequência de caracteres entre aspas simples (`'Bem-vindo ao Python!'`) ou dupla (`\"Bem-vindo ao Python!\"`)."
      ]
    },
    {
      "cell_type": "code",
      "execution_count": 18,
      "metadata": {
        "editable": false,
        "tags": [],
        "colab": {
          "base_uri": "https://localhost:8080/"
        },
        "id": "cZZyiRkgSEf6",
        "outputId": "63fe364a-b4b8-45f8-bc36-b06f54c54d98"
      },
      "outputs": [
        {
          "output_type": "stream",
          "name": "stdout",
          "text": [
            "Bem-vindo ao Python!\n"
          ]
        }
      ],
      "source": [
        "print('Bem-vindo ao Python!') # imprime na tela uma string definida com aspas simples"
      ]
    },
    {
      "cell_type": "code",
      "execution_count": 19,
      "metadata": {
        "editable": false,
        "tags": [],
        "colab": {
          "base_uri": "https://localhost:8080/"
        },
        "id": "z2tM0qm7SEf7",
        "outputId": "71168144-a2a1-411a-e518-a96c731f11bb"
      },
      "outputs": [
        {
          "output_type": "stream",
          "name": "stdout",
          "text": [
            "Bem-vindo ao Python!\n"
          ]
        }
      ],
      "source": [
        "print('Bem-vindo', 'ao', 'Python!')"
      ]
    },
    {
      "cell_type": "code",
      "execution_count": 20,
      "metadata": {
        "editable": false,
        "tags": [],
        "colab": {
          "base_uri": "https://localhost:8080/"
        },
        "id": "x10-U-svSEf7",
        "outputId": "dcdc8639-8747-49cf-c55a-d792b1c33acc"
      },
      "outputs": [
        {
          "output_type": "stream",
          "name": "stdout",
          "text": [
            "Bem-vindo ao Python!\n"
          ]
        }
      ],
      "source": [
        "print(\"Bem-vindo ao Python!\") # imprime na tela uma string definida com aspas duplas"
      ]
    },
    {
      "cell_type": "code",
      "execution_count": 21,
      "metadata": {
        "editable": false,
        "tags": [],
        "colab": {
          "base_uri": "https://localhost:8080/"
        },
        "id": "bNmd-6g2SEf7",
        "outputId": "c97b84f0-6d5e-400d-fe56-7f6cbaab21af"
      },
      "outputs": [
        {
          "output_type": "stream",
          "name": "stdout",
          "text": [
            "Bem-vindo ao Python 3 !\n"
          ]
        }
      ],
      "source": [
        "print('Bem-vindo', 'ao', 'Python', 3, '!')"
      ]
    },
    {
      "cell_type": "markdown",
      "metadata": {
        "editable": false,
        "tags": [],
        "id": "xpvAWMOaSEf7"
      },
      "source": [
        "Ao terminar sua ação o comando `print()` posiciona o cursor da tela no início do próxima linha, semelhante ao que acontece quando você pressiona a tecla Enter (ou Return) quando está digitando em um editor de texto como o Word. Veremos em breve como evitar o espaçamento automático entre valores ou usar um separador diferente do espaço."
      ]
    },
    {
      "cell_type": "markdown",
      "metadata": {
        "editable": false,
        "tags": [],
        "id": "akw_GGgZSEf7"
      },
      "source": [
        "### Quebra de Linha"
      ]
    },
    {
      "cell_type": "markdown",
      "metadata": {
        "editable": false,
        "tags": [],
        "id": "n-yiMu6PSEf8"
      },
      "source": [
        "Quando uma barra invertida (\\\\) aparece em uma string, ela é chamada de *caractere de escape*. A barra invertida e o caractere que a segue formam uma sequência de escape. Por exemplo, \\n representa a sequência de escape do caractere de nova linha, que diz à função `print()` para mover o cursor para a próxima linha. Colocar dois \\n consecutivos produz uma linha em branco na tela."
      ]
    },
    {
      "cell_type": "code",
      "execution_count": 22,
      "metadata": {
        "editable": false,
        "tags": [],
        "colab": {
          "base_uri": "https://localhost:8080/"
        },
        "id": "Mw0O5bCgSEf8",
        "outputId": "4bb1a89f-f059-4ef4-a3ae-12b439123021"
      },
      "outputs": [
        {
          "output_type": "stream",
          "name": "stdout",
          "text": [
            "Bem-vindo\n",
            "ao\n",
            "\n",
            "Python!\n"
          ]
        }
      ],
      "source": [
        "print('Bem-vindo\\nao\\n\\nPython!')"
      ]
    },
    {
      "cell_type": "markdown",
      "metadata": {
        "editable": false,
        "tags": [],
        "id": "NaSDnanJSEf8"
      },
      "source": [
        "### Outras Sequências de Scape"
      ]
    },
    {
      "cell_type": "markdown",
      "metadata": {
        "editable": false,
        "tags": [],
        "id": "vbAnoFdvSEf8"
      },
      "source": [
        "A sequência `\\t` insere um tab horizontal. A sequência `\\\\` insere uma barra na string. A sequência `\\\"` e `\\'` insere, respectivamente, aspas duplas e simples na string"
      ]
    },
    {
      "cell_type": "code",
      "execution_count": null,
      "metadata": {
        "editable": false,
        "tags": [],
        "id": "RAPNf7w4SEf9"
      },
      "outputs": [],
      "source": [
        "print('Bem-vindo\\tao\\tPython!')"
      ]
    },
    {
      "cell_type": "code",
      "execution_count": 23,
      "metadata": {
        "editable": false,
        "tags": [],
        "colab": {
          "base_uri": "https://localhost:8080/"
        },
        "id": "2k8N_DcXSEf9",
        "outputId": "0f442fde-e3c4-4740-8342-cebefe55eac8"
      },
      "outputs": [
        {
          "output_type": "stream",
          "name": "stdout",
          "text": [
            "Bem-vindo \\ao \\Python!\n"
          ]
        }
      ],
      "source": [
        "print('Bem-vindo \\\\ao \\\\Python!')"
      ]
    },
    {
      "cell_type": "code",
      "execution_count": null,
      "metadata": {
        "editable": false,
        "tags": [],
        "id": "HUjTYs3jSEf9"
      },
      "outputs": [],
      "source": [
        "print('\\\"Bem-vindo\\\" ao \\'Python!\\'') # A sequência \\\" e \\' insere, respectivamente, aspas duplas e simples na string"
      ]
    },
    {
      "cell_type": "markdown",
      "metadata": {
        "editable": false,
        "tags": [],
        "id": "7-pJezGFSEf-"
      },
      "source": [
        "### Ignorando Quebras de Linha em uma String Longa"
      ]
    },
    {
      "cell_type": "markdown",
      "metadata": {
        "editable": false,
        "tags": [],
        "id": "LzgLSDk3SEf-"
      },
      "source": [
        "Python permite que uma string longa (ou uma instrução longa) seja dividida em várias linhas usando o caractere de continuação `\\` como o último caractere de uma linha."
      ]
    },
    {
      "cell_type": "code",
      "execution_count": null,
      "metadata": {
        "editable": false,
        "tags": [],
        "id": "iTvWhM70SEf-"
      },
      "outputs": [],
      "source": [
        "print('Esta é uma string muito longa, por isso \\\n",
        "quebramos em duas linhas')"
      ]
    },
    {
      "cell_type": "markdown",
      "metadata": {
        "editable": false,
        "tags": [],
        "id": "keZwm4szSEf-"
      },
      "source": [
        "O interpretador remonta as partes da string em uma única string sem quebra. Embora o caractere `\\` esteja dentro da string, nesse caso ele não é o caractere de escape porque não é seguido por outro caractere. O Guia de estilo para código Python ([PEP 8](https://peps.python.org/pep-0008/)) recomenda linhas com no máximo 79 caracteres (isso evita falhas na exibição do código em diferentes editores)."
      ]
    },
    {
      "cell_type": "markdown",
      "metadata": {
        "editable": false,
        "tags": [],
        "id": "iKvtaljsSEf-"
      },
      "source": [
        "### Imprimindo o Resultado de uma Expressão"
      ]
    },
    {
      "cell_type": "markdown",
      "metadata": {
        "editable": false,
        "tags": [],
        "id": "-EYJ_oCKSEf_"
      },
      "source": [
        "A fução `print()` não se limita a imprimir objetos strings. Cálculos envolvendo variáveis e objetos numéricos também podem ser passados como argumento para a função, tal como ilustrado no exemplo abaixo."
      ]
    },
    {
      "cell_type": "code",
      "execution_count": 24,
      "metadata": {
        "editable": false,
        "tags": [],
        "colab": {
          "base_uri": "https://localhost:8080/"
        },
        "id": "yT4GvaBtSEf_",
        "outputId": "11b87e21-373c-425c-df52-b4247768e1bc"
      },
      "outputs": [
        {
          "output_type": "stream",
          "name": "stdout",
          "text": [
            "A somma de 7 + 3 = 10\n"
          ]
        }
      ],
      "source": [
        "print('A somma de 7 + 3 =', 7 + 3)"
      ]
    },
    {
      "cell_type": "markdown",
      "source": [
        "\n",
        "\n",
        "---\n",
        "\n"
      ],
      "metadata": {
        "id": "-awtVVT1dMXy"
      }
    },
    {
      "cell_type": "markdown",
      "metadata": {
        "editable": false,
        "tags": [],
        "id": "rPQKvpaCSEf_"
      },
      "source": [
        "# 1.4 Strings Definidas com Aspas Triplas"
      ]
    },
    {
      "cell_type": "markdown",
      "metadata": {
        "editable": false,
        "tags": [],
        "id": "HljEyP7HSEf_"
      },
      "source": [
        "Vimos a definição de objetos string delimitados por um par de aspas simples (') ou por um par de aspas duplas (\"). Há uma terceira possibilidade: strings definidas com aspas triplas. Elas começam e terminam com três aspas duplas (\"\"\") ou três aspas simples (''') . O Guia de estilo para código Python ([PEP 8](https://peps.python.org/pep-0008/)) recomenda três aspas duplas (\"\"\") para:\n",
        "1. Strings multilinhas,\n",
        "2. Strings contendo aspas simples ou duplas e\n",
        "3. Docstrings, que é forma recomendada de documentar os componentes de um programa."
      ]
    },
    {
      "cell_type": "code",
      "execution_count": 26,
      "metadata": {
        "editable": false,
        "tags": [],
        "colab": {
          "base_uri": "https://localhost:8080/"
        },
        "id": "mdD3gDzISEgA",
        "outputId": "38932a1a-0453-463e-ed32-ce4c1be60445"
      },
      "outputs": [
        {
          "output_type": "stream",
          "name": "stdout",
          "text": [
            "Mostra \"hi\" entre aspas duplas\n"
          ]
        }
      ],
      "source": [
        "print('Mostra \"hi\" entre aspas duplas') # ok!"
      ]
    },
    {
      "cell_type": "code",
      "execution_count": 25,
      "metadata": {
        "editable": false,
        "tags": [],
        "colab": {
          "base_uri": "https://localhost:8080/",
          "height": 106
        },
        "id": "s7D_ROqfSEgA",
        "outputId": "d4134d0a-bc91-4c73-abf9-51246b5ec824"
      },
      "outputs": [
        {
          "output_type": "error",
          "ename": "SyntaxError",
          "evalue": "invalid syntax. Perhaps you forgot a comma? (<ipython-input-25-df525d688c31>, line 1)",
          "traceback": [
            "\u001b[0;36m  File \u001b[0;32m\"<ipython-input-25-df525d688c31>\"\u001b[0;36m, line \u001b[0;32m1\u001b[0m\n\u001b[0;31m    print('Mostra 'hi' entre aspas simples') # erro!\u001b[0m\n\u001b[0m          ^\u001b[0m\n\u001b[0;31mSyntaxError\u001b[0m\u001b[0;31m:\u001b[0m invalid syntax. Perhaps you forgot a comma?\n"
          ]
        }
      ],
      "source": [
        "print('Mostra 'hi' entre aspas simples') # este comando consiste de um ERRO!"
      ]
    },
    {
      "cell_type": "code",
      "execution_count": null,
      "metadata": {
        "editable": false,
        "tags": [],
        "id": "lizbhrX5SEgA"
      },
      "outputs": [],
      "source": [
        "print('Mostra \\'hi\\' entre aspas simples') # ok!"
      ]
    },
    {
      "cell_type": "code",
      "execution_count": null,
      "metadata": {
        "editable": false,
        "tags": [],
        "id": "TH8YliStSEgA"
      },
      "outputs": [],
      "source": [
        "print(\"Mostra o nome O'Brien\") # ok!"
      ]
    },
    {
      "cell_type": "code",
      "execution_count": null,
      "metadata": {
        "editable": false,
        "tags": [],
        "id": "qJ0tvxp0SEgB"
      },
      "outputs": [],
      "source": [
        "print(\"Mostra \\\"hi\\\" entre aspas duplas\") # ok!"
      ]
    },
    {
      "cell_type": "code",
      "execution_count": null,
      "metadata": {
        "editable": false,
        "tags": [],
        "id": "Is98pmvLSEgB"
      },
      "outputs": [],
      "source": [
        "print(\"\"\"Mostra \"hi\" e 'bye' entre aspas duplas e simples\"\"\") # ok!"
      ]
    },
    {
      "cell_type": "code",
      "execution_count": 27,
      "metadata": {
        "editable": false,
        "tags": [],
        "id": "J1XwmvwVSEgB"
      },
      "outputs": [],
      "source": [
        "string_com_aspas_triplas = \"\"\"Esta é uma string multilinha definida com aspas triplas\n",
        "usando duas linhas\"\"\""
      ]
    },
    {
      "cell_type": "code",
      "execution_count": 28,
      "metadata": {
        "editable": false,
        "tags": [],
        "colab": {
          "base_uri": "https://localhost:8080/"
        },
        "id": "199QkLveSEgB",
        "outputId": "cecff955-67bf-4fdf-e226-61d3c8c11f02"
      },
      "outputs": [
        {
          "output_type": "stream",
          "name": "stdout",
          "text": [
            "Esta é uma string multilinha definida com aspas triplas\n",
            "usando duas linhas\n"
          ]
        }
      ],
      "source": [
        "print(string_com_aspas_triplas)"
      ]
    },
    {
      "cell_type": "code",
      "execution_count": 29,
      "metadata": {
        "editable": false,
        "tags": [],
        "colab": {
          "base_uri": "https://localhost:8080/",
          "height": 35
        },
        "id": "NqQ4TCVHSEgB",
        "outputId": "00c6d0e2-0f0b-4a33-e879-f4bbe5217815"
      },
      "outputs": [
        {
          "output_type": "execute_result",
          "data": {
            "text/plain": [
              "'Esta é uma string multilinha definida com aspas triplas\\nusando duas linhas'"
            ],
            "application/vnd.google.colaboratory.intrinsic+json": {
              "type": "string"
            }
          },
          "metadata": {},
          "execution_count": 29
        }
      ],
      "source": [
        "string_com_aspas_triplas"
      ]
    },
    {
      "cell_type": "markdown",
      "metadata": {
        "editable": false,
        "tags": [],
        "id": "ESGO0nT3SEgC"
      },
      "source": [
        "Python armazena strings multilinhas usando sequências de escape `\\n` incorporadas. Quando avaliamos a variável `string_com_aspas_triplas`, em vez de imprimi-la, o IPython exibe a string entre aspas simples com um caractere `\\n` onde Enter foi pressionado. As aspas exibidas pelo IPython indicam que `string_com_aspas_triplas` é uma string - essas aspas não fazem parte do conteúdo da string."
      ]
    },
    {
      "cell_type": "markdown",
      "metadata": {
        "editable": false,
        "tags": [],
        "id": "9UumptIxSEgC"
      },
      "source": [
        "### Exercício:"
      ]
    },
    {
      "cell_type": "markdown",
      "metadata": {
        "editable": false,
        "tags": [],
        "id": "R0yfndjzSEgC"
      },
      "source": [
        "1. Antes de executar, tente inferir mentalmente qual o resultado do comando a seguir."
      ]
    },
    {
      "cell_type": "code",
      "execution_count": 30,
      "metadata": {
        "editable": false,
        "tags": [],
        "colab": {
          "base_uri": "https://localhost:8080/"
        },
        "id": "HH0Sd9kzSEgC",
        "outputId": "1fbe4d0b-45ed-4934-9e8d-9380cb51a94e"
      },
      "outputs": [
        {
          "output_type": "stream",
          "name": "stdout",
          "text": [
            "This is a lengthy\n",
            "   multiline string containing \n",
            "a few lines of text\n"
          ]
        }
      ],
      "source": [
        "print(\"\"\"This is a lengthy\n",
        "   multiline string containing\n",
        "a few lines \\\n",
        "of text\"\"\")"
      ]
    },
    {
      "cell_type": "markdown",
      "source": [
        "\n",
        "\n",
        "---\n",
        "\n"
      ],
      "metadata": {
        "id": "iWuQ4uPDdzMT"
      }
    },
    {
      "cell_type": "markdown",
      "metadata": {
        "editable": false,
        "tags": [],
        "id": "Fq7wI9QbSEgC"
      },
      "source": [
        "# 1.5 Obtendo Dados do Usuário com a Função `input()`"
      ]
    },
    {
      "cell_type": "markdown",
      "metadata": {
        "editable": false,
        "tags": [],
        "id": "3yK485VkSEgC"
      },
      "source": [
        "A função integrada `input()` exibe uma mensagem (prompt) para o usuário e captura o que for fornecido via teclado. Os dados capturados são passados para o programa na forma de um objeto do tipo string."
      ]
    },
    {
      "cell_type": "code",
      "execution_count": 31,
      "metadata": {
        "editable": false,
        "scrolled": true,
        "tags": [],
        "colab": {
          "base_uri": "https://localhost:8080/"
        },
        "id": "_RXiqlCpSEgD",
        "outputId": "35499beb-464d-476f-f239-6488faf02ecb"
      },
      "outputs": [
        {
          "name": "stdout",
          "output_type": "stream",
          "text": [
            "Qual é o seu nome? sss\n"
          ]
        }
      ],
      "source": [
        "nome = input(\"Qual é o seu nome? \")"
      ]
    },
    {
      "cell_type": "code",
      "execution_count": 32,
      "metadata": {
        "editable": false,
        "tags": [],
        "colab": {
          "base_uri": "https://localhost:8080/",
          "height": 35
        },
        "id": "E6ONIRTNSEgD",
        "outputId": "4a37ee45-5eb0-4f38-a682-682b20eefd5f"
      },
      "outputs": [
        {
          "output_type": "execute_result",
          "data": {
            "text/plain": [
              "'sss'"
            ],
            "application/vnd.google.colaboratory.intrinsic+json": {
              "type": "string"
            }
          },
          "metadata": {},
          "execution_count": 32
        }
      ],
      "source": [
        "nome"
      ]
    },
    {
      "cell_type": "code",
      "execution_count": 33,
      "metadata": {
        "editable": false,
        "tags": [],
        "colab": {
          "base_uri": "https://localhost:8080/"
        },
        "id": "9v3hzkFWSEgE",
        "outputId": "9b3eac59-eccf-4247-b1d9-e5b1f3ae967d"
      },
      "outputs": [
        {
          "output_type": "stream",
          "name": "stdout",
          "text": [
            "sss\n"
          ]
        }
      ],
      "source": [
        "print(nome)"
      ]
    },
    {
      "cell_type": "code",
      "execution_count": 34,
      "metadata": {
        "colab": {
          "base_uri": "https://localhost:8080/"
        },
        "id": "5B-gHlvqSEgE",
        "outputId": "a50c7b89-1b1a-4f82-8ae4-e9e4f562929b"
      },
      "outputs": [
        {
          "output_type": "execute_result",
          "data": {
            "text/plain": [
              "str"
            ]
          },
          "metadata": {},
          "execution_count": 34
        }
      ],
      "source": [
        "type(nome)"
      ]
    },
    {
      "cell_type": "markdown",
      "metadata": {
        "editable": false,
        "tags": [],
        "id": "3VRUFxZiSEgE"
      },
      "source": [
        "Detalhando o funcionamento de `input()`:\n",
        "1. Primeiro `input()` exibe a string passada como argumento (prompt) para informar ao usuário o que ele deve digitar e, sem seguida, aguarda a resposta. No exemplo acima a frase `\"Qual o seu nome?\"` é exibida para o usuário.\n",
        "2. Quando o usuário digita a resposta no teclado e pressiona Enter, `input()` captura os caracteres e os retorna (ou seja, devolve) como uma string, a qual pode ser referenciada por uma variável do programa. Aqui atribuímos o retorno à variável nome."
      ]
    },
    {
      "cell_type": "markdown",
      "metadata": {
        "editable": false,
        "tags": [],
        "id": "ZdSM8vdsSEgE"
      },
      "source": [
        "### A Função `input()` Sempre Retorna uma String"
      ]
    },
    {
      "cell_type": "markdown",
      "metadata": {
        "editable": false,
        "tags": [],
        "id": "PPGhZk-DSEgF"
      },
      "source": [
        "Considere os seguintes trechos de código que tentam ler dois números e adicioná-los:"
      ]
    },
    {
      "cell_type": "code",
      "execution_count": null,
      "metadata": {
        "editable": false,
        "tags": [],
        "id": "lk7ZJOKKSEgF"
      },
      "outputs": [],
      "source": [
        "valor1 = input('Entre com o primeiro número: ')"
      ]
    },
    {
      "cell_type": "code",
      "execution_count": null,
      "metadata": {
        "editable": false,
        "scrolled": true,
        "tags": [],
        "id": "8o4JGQWvSEgF"
      },
      "outputs": [],
      "source": [
        "valor2 = input('Entre com o segundo número: ')"
      ]
    },
    {
      "cell_type": "code",
      "execution_count": null,
      "metadata": {
        "editable": false,
        "tags": [],
        "id": "kbaKIEPZSEgF"
      },
      "outputs": [],
      "source": [
        "valor1 + valor2"
      ]
    },
    {
      "cell_type": "markdown",
      "metadata": {
        "editable": false,
        "tags": [],
        "id": "SRw-VC9ISEgF"
      },
      "source": [
        "Ao invés de somar os números fornecidos para produzir o resultado desejado, Python \"adiciona\" os valores da string associada aos números, produzindo a concatenação das entradas. Ou seja, ele cria uma nova string contendo o valor do operando esquerdo seguido pelo valor do operando direito (concatena). Como **`input()` sempre retorna uma string**, se o desejado for operar com numeros precisamos converter a entrada capturada."
      ]
    },
    {
      "cell_type": "markdown",
      "metadata": {
        "editable": false,
        "tags": [],
        "id": "FHi14WW5SEgG"
      },
      "source": [
        "### Lendo Entradas Numéricas do Usuário"
      ]
    },
    {
      "cell_type": "markdown",
      "metadata": {
        "editable": false,
        "tags": [],
        "id": "51-6n7VQSEgG"
      },
      "source": [
        "Se você precisa de uma entrada numérica inteira, converta a string capturada por `input()` usando a função integrada `int()`. Para converter strings para números em ponto flutuante, use a função integrada `float()`."
      ]
    },
    {
      "cell_type": "code",
      "execution_count": null,
      "metadata": {
        "editable": false,
        "tags": [],
        "id": "9_ljH7sgSEgG"
      },
      "outputs": [],
      "source": [
        "valor = input('Entre com um inteiro: ')"
      ]
    },
    {
      "cell_type": "code",
      "execution_count": null,
      "metadata": {
        "editable": false,
        "tags": [],
        "id": "5jDLr8kJSEgG"
      },
      "outputs": [],
      "source": [
        "valor = int(valor)"
      ]
    },
    {
      "cell_type": "code",
      "execution_count": null,
      "metadata": {
        "editable": false,
        "tags": [],
        "id": "cblrb5WzSEgG"
      },
      "outputs": [],
      "source": [
        "print(valor)"
      ]
    },
    {
      "cell_type": "code",
      "execution_count": null,
      "metadata": {
        "editable": false,
        "tags": [],
        "id": "9BDpVfONSEgH"
      },
      "outputs": [],
      "source": [
        "outro_valor = int(input('Entre com outro inteiro: ')) # Leitura e a conversão em um único comando"
      ]
    },
    {
      "cell_type": "code",
      "execution_count": null,
      "metadata": {
        "editable": false,
        "tags": [],
        "id": "OUUnvlgUSEgH"
      },
      "outputs": [],
      "source": [
        "print(outro_valor)"
      ]
    },
    {
      "cell_type": "code",
      "execution_count": null,
      "metadata": {
        "editable": false,
        "tags": [],
        "id": "_d7yOsRnSEgH"
      },
      "outputs": [],
      "source": [
        "soma = valor + outro_valor"
      ]
    },
    {
      "cell_type": "code",
      "execution_count": null,
      "metadata": {
        "editable": false,
        "tags": [],
        "id": "rsZwpVEtSEgH"
      },
      "outputs": [],
      "source": [
        "print('Soma: ',soma)"
      ]
    },
    {
      "cell_type": "code",
      "execution_count": null,
      "metadata": {
        "editable": false,
        "tags": [],
        "id": "_1LkCnonSEgI"
      },
      "outputs": [],
      "source": [
        "valor_nao_truncado = float(input('Entre com um número com parte fracionária: '))"
      ]
    },
    {
      "cell_type": "code",
      "execution_count": null,
      "metadata": {
        "editable": false,
        "scrolled": true,
        "tags": [],
        "id": "GAYqsIAjSEgI"
      },
      "outputs": [],
      "source": [
        "print(valor_nao_truncado)"
      ]
    },
    {
      "cell_type": "code",
      "execution_count": null,
      "metadata": {
        "editable": false,
        "tags": [],
        "id": "eBCKyiUoSEgI"
      },
      "outputs": [],
      "source": [
        "valor_truncado = int(valor_nao_truncado)"
      ]
    },
    {
      "cell_type": "code",
      "execution_count": null,
      "metadata": {
        "editable": false,
        "tags": [],
        "id": "4jK50QprSEgI"
      },
      "outputs": [],
      "source": [
        "print(valor_truncado)"
      ]
    },
    {
      "cell_type": "markdown",
      "metadata": {
        "editable": false,
        "tags": [],
        "id": "nEdWaPrWSEgI"
      },
      "source": [
        "A entrada deve ser compatível, isto é, a string de entrada deve formar um número compatível com a função de conversão. Se a string não definir um número compatível ocorrerá um erro:"
      ]
    },
    {
      "cell_type": "code",
      "execution_count": 35,
      "metadata": {
        "editable": false,
        "tags": [],
        "colab": {
          "base_uri": "https://localhost:8080/",
          "height": 159
        },
        "id": "4oD8ppU_SEgJ",
        "outputId": "9691af83-ad24-44cf-9009-87b882d9f3bf"
      },
      "outputs": [
        {
          "name": "stdout",
          "output_type": "stream",
          "text": [
            "Entre com uma string alfanumérica ou valor não inteiro: xx\n"
          ]
        },
        {
          "output_type": "error",
          "ename": "ValueError",
          "evalue": "invalid literal for int() with base 10: 'xx'",
          "traceback": [
            "\u001b[0;31m---------------------------------------------------------------------------\u001b[0m",
            "\u001b[0;31mValueError\u001b[0m                                Traceback (most recent call last)",
            "\u001b[0;32m<ipython-input-35-8cc123aa625c>\u001b[0m in \u001b[0;36m<cell line: 1>\u001b[0;34m()\u001b[0m\n\u001b[0;32m----> 1\u001b[0;31m \u001b[0mvalor_incompativel\u001b[0m \u001b[0;34m=\u001b[0m \u001b[0mint\u001b[0m\u001b[0;34m(\u001b[0m\u001b[0minput\u001b[0m\u001b[0;34m(\u001b[0m\u001b[0;34m'Entre com uma string alfanumérica ou valor não inteiro: '\u001b[0m\u001b[0;34m)\u001b[0m\u001b[0;34m)\u001b[0m\u001b[0;34m\u001b[0m\u001b[0;34m\u001b[0m\u001b[0m\n\u001b[0m",
            "\u001b[0;31mValueError\u001b[0m: invalid literal for int() with base 10: 'xx'"
          ]
        }
      ],
      "source": [
        "valor_incompativel = int(input('Entre com uma string alfanumérica ou valor não inteiro: '))"
      ]
    },
    {
      "cell_type": "markdown",
      "metadata": {
        "editable": false,
        "tags": [],
        "id": "yBT6ddrYSEgJ"
      },
      "source": [
        "### Exercícios:"
      ]
    },
    {
      "cell_type": "markdown",
      "metadata": {
        "editable": false,
        "tags": [],
        "id": "rEd15vzuSEgJ"
      },
      "source": [
        "1. Use `float()` para converter '6.2' (uma string) em um valor representado em ponto flutuante. Multiplique esse valor por 3.3 e mostre o resultado.\n",
        "2. Explique o que acontece com o seguinte comando Python: `print(int(float('6.35')))`"
      ]
    },
    {
      "cell_type": "code",
      "execution_count": null,
      "metadata": {
        "id": "Iak0r7nVSEgJ"
      },
      "outputs": [],
      "source": [
        "print(float('6.2') * 3.3)"
      ]
    },
    {
      "cell_type": "markdown",
      "source": [
        "\n",
        "\n",
        "---\n",
        "\n"
      ],
      "metadata": {
        "id": "q8Gb_BhPg-wP"
      }
    },
    {
      "cell_type": "markdown",
      "metadata": {
        "editable": false,
        "tags": [],
        "id": "_KipleuhSEgJ"
      },
      "source": [
        "# 1.7 Operadores Relacionais"
      ]
    },
    {
      "cell_type": "markdown",
      "metadata": {
        "editable": false,
        "tags": [],
        "id": "dWmKgN54SEgK"
      },
      "source": [
        "Os operadores relacionais (>, >=, <, <=, ==, !=) são usados para realizar comparações entre valores. Toda comparação resulta em um valor booleano: True (verdadeiro) ou False (falso)."
      ]
    },
    {
      "cell_type": "code",
      "execution_count": 36,
      "metadata": {
        "editable": false,
        "tags": [],
        "colab": {
          "base_uri": "https://localhost:8080/"
        },
        "id": "Mb2khw4jSEgK",
        "outputId": "0ccadce2-8468-418b-f8cd-873c0eee4df2"
      },
      "outputs": [
        {
          "output_type": "execute_result",
          "data": {
            "text/plain": [
              "True"
            ]
          },
          "metadata": {},
          "execution_count": 36
        }
      ],
      "source": [
        "7 > 4 # 7 é maior que 4?"
      ]
    },
    {
      "cell_type": "code",
      "execution_count": null,
      "metadata": {
        "editable": false,
        "tags": [],
        "id": "IBdlAyCtSEgK"
      },
      "outputs": [],
      "source": [
        "7 < 4 # 7 é menor que 4?"
      ]
    },
    {
      "cell_type": "code",
      "execution_count": null,
      "metadata": {
        "editable": false,
        "tags": [],
        "id": "3oV4G7iASEgK"
      },
      "outputs": [],
      "source": [
        "7 >= 4 # 7 é maior ou igual 4?"
      ]
    },
    {
      "cell_type": "code",
      "execution_count": null,
      "metadata": {
        "editable": false,
        "tags": [],
        "id": "NeZ_qgmnSEgK"
      },
      "outputs": [],
      "source": [
        "7 != 4 # 7 é diferente de 4?"
      ]
    },
    {
      "cell_type": "code",
      "execution_count": null,
      "metadata": {
        "editable": false,
        "tags": [],
        "id": "hXP1npaDSEgK"
      },
      "outputs": [],
      "source": [
        "7 == 4 # 7 é igual a 4?"
      ]
    },
    {
      "cell_type": "markdown",
      "metadata": {
        "editable": false,
        "tags": [],
        "id": "35-56EKHSEgL"
      },
      "source": [
        "### Precedência"
      ]
    },
    {
      "cell_type": "markdown",
      "metadata": {
        "editable": false,
        "tags": [],
        "id": "KsEFwW03SEgL"
      },
      "source": [
        "Os operadores relacionais tem precedência __menor__ que os operadores aritméticos. Os operadores >, <, >= e <= têm todos a mesma precedência e são avaliados da esquerda para a direita. Os operadores == e != têm a mesma precedência, que é menor que a dos operadores >, <, >= e <=. Um erro de sintaxe ocorre quando qualquer um dos operadores ==, !=, >= e <= contém espaços entre seu par de símbolos"
      ]
    },
    {
      "cell_type": "markdown",
      "metadata": {
        "editable": false,
        "tags": [],
        "id": "fxqMVFgSSEgL"
      },
      "source": [
        "### Encadeamento de Comparações"
      ]
    },
    {
      "cell_type": "markdown",
      "metadata": {
        "editable": false,
        "tags": [],
        "id": "KEJaiXsbSEgL"
      },
      "source": [
        "Em Python, operadores relacionais podem ser encadeados para verificar se um valor está em um intervalo. A comparação a seguir determina se x está no intervalo de 1 a 5"
      ]
    },
    {
      "cell_type": "code",
      "execution_count": 38,
      "metadata": {
        "editable": false,
        "tags": [],
        "id": "_EhqdAaXSEgL"
      },
      "outputs": [],
      "source": [
        "x = 3"
      ]
    },
    {
      "cell_type": "code",
      "execution_count": 39,
      "metadata": {
        "editable": false,
        "tags": [],
        "colab": {
          "base_uri": "https://localhost:8080/"
        },
        "id": "HS7Bcyh8SEgM",
        "outputId": "3fa4e266-c2b8-4c2b-8846-c2d8f47fdb3d"
      },
      "outputs": [
        {
          "output_type": "execute_result",
          "data": {
            "text/plain": [
              "True"
            ]
          },
          "metadata": {},
          "execution_count": 39
        }
      ],
      "source": [
        "1 <= x <= 5"
      ]
    },
    {
      "cell_type": "code",
      "execution_count": null,
      "metadata": {
        "editable": false,
        "tags": [],
        "id": "r90hDum0SEgM"
      },
      "outputs": [],
      "source": [
        "x = 10"
      ]
    },
    {
      "cell_type": "code",
      "execution_count": null,
      "metadata": {
        "editable": false,
        "tags": [],
        "id": "XV6hYD_USEgM"
      },
      "outputs": [],
      "source": [
        "1 <= x <= 5"
      ]
    },
    {
      "cell_type": "markdown",
      "source": [
        "\n",
        "\n",
        "---\n",
        "\n"
      ],
      "metadata": {
        "id": "KoyUCNv5hPHZ"
      }
    },
    {
      "cell_type": "markdown",
      "metadata": {
        "editable": false,
        "tags": [],
        "id": "zi7to4pbSEgM"
      },
      "source": [
        "# 1.8 Operadores Lógicos"
      ]
    },
    {
      "cell_type": "markdown",
      "metadata": {
        "editable": false,
        "tags": [],
        "id": "jKBpv_JzSEgM"
      },
      "source": [
        "Operadores lógicos são usados para combinar valores booleanos (True e False) de acordo com a lógica boolenana. Os valores combinados podem ser literais ou resultados de comparações feitas com operadores relacionais. Python oferece três operadores lógicos:  `and`, `or` e `not`. Os dois primeiros operam com dois operandos, enquanto o terceiro trabalha com um único operando. Independente do caso, o resultado de uma operação lógica é sempre True (verdadeiro) ou False (Falso)"
      ]
    },
    {
      "cell_type": "markdown",
      "metadata": {
        "editable": false,
        "tags": [],
        "id": "0Hs7yJCBSEgM"
      },
      "source": [
        "Operador: `AND`"
      ]
    },
    {
      "cell_type": "code",
      "execution_count": null,
      "metadata": {
        "editable": false,
        "tags": [],
        "id": "swfUt8H8SEgN"
      },
      "outputs": [],
      "source": [
        "False and False"
      ]
    },
    {
      "cell_type": "code",
      "execution_count": null,
      "metadata": {
        "editable": false,
        "tags": [],
        "id": "993rcFtxSEgN"
      },
      "outputs": [],
      "source": [
        "False and True"
      ]
    },
    {
      "cell_type": "code",
      "execution_count": null,
      "metadata": {
        "editable": false,
        "tags": [],
        "id": "ECuzaQWqSEgN"
      },
      "outputs": [],
      "source": [
        "True and False"
      ]
    },
    {
      "cell_type": "code",
      "execution_count": null,
      "metadata": {
        "editable": false,
        "tags": [],
        "id": "PliXZbTeSEgN"
      },
      "outputs": [],
      "source": [
        "True and True"
      ]
    },
    {
      "cell_type": "code",
      "execution_count": 40,
      "metadata": {
        "editable": false,
        "tags": [],
        "colab": {
          "base_uri": "https://localhost:8080/"
        },
        "id": "5F6sbA7mSEgO",
        "outputId": "0a730554-4620-403e-80b8-49efdc7a790c"
      },
      "outputs": [
        {
          "output_type": "execute_result",
          "data": {
            "text/plain": [
              "True"
            ]
          },
          "metadata": {},
          "execution_count": 40
        }
      ],
      "source": [
        "(1 < 3) and (-3 < -2)"
      ]
    },
    {
      "cell_type": "markdown",
      "metadata": {
        "editable": false,
        "tags": [],
        "id": "Yl7PTL0cSEgO"
      },
      "source": [
        "Operador: `OR`"
      ]
    },
    {
      "cell_type": "code",
      "execution_count": null,
      "metadata": {
        "editable": false,
        "tags": [],
        "id": "hdpq252ISEgO"
      },
      "outputs": [],
      "source": [
        "False or False"
      ]
    },
    {
      "cell_type": "code",
      "execution_count": null,
      "metadata": {
        "editable": false,
        "tags": [],
        "id": "0wTHizdHSEgP"
      },
      "outputs": [],
      "source": [
        "False or True"
      ]
    },
    {
      "cell_type": "code",
      "execution_count": null,
      "metadata": {
        "editable": false,
        "tags": [],
        "id": "jthl6M-ySEgP"
      },
      "outputs": [],
      "source": [
        "True or False"
      ]
    },
    {
      "cell_type": "code",
      "execution_count": null,
      "metadata": {
        "editable": false,
        "tags": [],
        "id": "e5qd3QSvSEgP"
      },
      "outputs": [],
      "source": [
        "True or True"
      ]
    },
    {
      "cell_type": "code",
      "execution_count": null,
      "metadata": {
        "editable": false,
        "tags": [],
        "id": "kqzeF3pySEgP"
      },
      "outputs": [],
      "source": [
        "(1 < 3) or (-3 < -2)"
      ]
    },
    {
      "cell_type": "markdown",
      "metadata": {
        "editable": false,
        "tags": [],
        "id": "awTDt7LFSEgP"
      },
      "source": [
        "Operador: `NOT`"
      ]
    },
    {
      "cell_type": "code",
      "execution_count": null,
      "metadata": {
        "editable": false,
        "tags": [],
        "id": "KWkNfK4ASEgQ"
      },
      "outputs": [],
      "source": [
        "not True"
      ]
    },
    {
      "cell_type": "code",
      "execution_count": null,
      "metadata": {
        "editable": false,
        "tags": [],
        "id": "ZrGINy_sSEgQ"
      },
      "outputs": [],
      "source": [
        "not False"
      ]
    },
    {
      "cell_type": "code",
      "execution_count": null,
      "metadata": {
        "editable": false,
        "tags": [],
        "id": "nl6mG41uSEgQ"
      },
      "outputs": [],
      "source": [
        "not (1 > 2)"
      ]
    },
    {
      "cell_type": "markdown",
      "source": [
        "\n",
        "\n",
        "---\n",
        "\n"
      ],
      "metadata": {
        "id": "t1oVpInuhd4H"
      }
    },
    {
      "cell_type": "markdown",
      "metadata": {
        "editable": false,
        "tags": [],
        "id": "3aKAd7gESEgR"
      },
      "source": [
        "# 1.9 O Comando `if`"
      ]
    },
    {
      "cell_type": "markdown",
      "metadata": {
        "tags": [],
        "id": "OB4L6etrSEgR"
      },
      "source": [
        "Para motivar o uso de operadores relacionais, apresentaremos agora a versão mais simples do comando `if`. O comando `if` testa uma condição para decidir se deve, ou não, executar um comando ou grupo de comandos.\n",
        "\n",
        "No exemplo a seguir, o usuário fornecerá dois inteiros que serão comparados usando seis instruções `if` consecutivas, uma para cada operador de comparação. Se a condição de teste em um determinado comando `if` for verdadeira (*True*), o comando `print()` correspondente será executado; caso contrário, será ignorado."
      ]
    },
    {
      "cell_type": "code",
      "execution_count": null,
      "metadata": {
        "editable": false,
        "tags": [],
        "id": "v10eHlgzSEgR"
      },
      "outputs": [],
      "source": [
        "print('Entre com dois inteiros, e eu lhe direi as relações que eles satisfazem.')\n",
        "numero1 = int(input('Entre com o primeiro inteiro: '))\n",
        "\n",
        "numero2 = int(input('Entre com o segundo inteiro: '))\n",
        "\n",
        "if numero1 == numero2:\n",
        "    print(numero1, 'é igual a', numero2)\n",
        "\n",
        "if numero1 != numero2:\n",
        "    print(numero1, 'é diferente de', numero2)\n",
        "\n",
        "if numero1 < numero2:\n",
        "    print(numero1, 'é menor que', numero2)\n",
        "\n",
        "if numero1 > numero2:\n",
        "    print(numero1, 'é maior que', numero2)\n",
        "\n",
        "if numero1 <= numero2:\n",
        "    print(numero1, 'é menor ou igual a', numero2)\n",
        "\n",
        "if numero1 >= numero2:\n",
        "    print(numero1, 'é maior ou igual a', numero2)"
      ]
    },
    {
      "cell_type": "markdown",
      "metadata": {
        "editable": false,
        "tags": [],
        "id": "eiSO4FEBSEgR"
      },
      "source": [
        "### Identação"
      ]
    },
    {
      "cell_type": "markdown",
      "metadata": {
        "editable": false,
        "tags": [],
        "id": "OzPDQEi0SEgS"
      },
      "source": [
        "Python exige que o bloco de código do comando `if` esteja identado em relação à definição do comando. O guia de estilo para código Python ([PEP 8](https://peps.python.org/pep-0008/)) recomenda quatro espaços de identação – usaremos essa conveção neste curso. Tenha em mente que **inconsistências na identação podem causar erros!**"
      ]
    },
    {
      "cell_type": "code",
      "execution_count": null,
      "metadata": {
        "editable": false,
        "tags": [],
        "id": "ODEm8qg_SEgS"
      },
      "outputs": [],
      "source": [
        "ano_de_nascimento = int(input('Entre com o seu ano de nascimento:'))\n",
        "idade = 2024 - ano_de_nascimento\n",
        "if idade < 12:\n",
        "    print('Você é uma criança!')\n",
        "if (idade >= 12) and (idade <= 18):\n",
        "    print('Você é um adolescente!')\n",
        "if idade > 18:\n",
        "    print('Você é um adulto!')"
      ]
    },
    {
      "cell_type": "markdown",
      "source": [
        "\n",
        "\n",
        "---\n",
        "\n"
      ],
      "metadata": {
        "id": "h28u6APsied-"
      }
    },
    {
      "cell_type": "markdown",
      "metadata": {
        "editable": false,
        "tags": [],
        "id": "OWr3md3ySEgS"
      },
      "source": [
        "# 1.10 Objetos e Tipagem Dinâmica"
      ]
    },
    {
      "cell_type": "markdown",
      "metadata": {
        "editable": false,
        "tags": [],
        "id": "LTvgvw12SEgT"
      },
      "source": [
        "Python é uma __linguagem orientada a objetos__, isto é, possui recursos que dão suporte à programação orientada a objetos. Um objeto é uma entidade que possui dados (chamados de atributos) e funcionalidade (chamadas de métodos). Mesmo valores literais como `7` (um número inteiro), `4.1` (um número representado em ponto flutuante) e a string `'cachorro'` são objetos. Mais precisamente, um objeto possui um __estado__, definido pelos valores de seus atributos, bem como um conjunto de __métodos__ que ele pode executar. Por exemplo, um objeto inteiro armazena um número inteiro sobre o qual determinadas operações podem ser realizadas, incluindo ser somado, subtraído ou multiplicado por outro inteiro."
      ]
    },
    {
      "cell_type": "code",
      "execution_count": 41,
      "metadata": {
        "editable": false,
        "tags": [],
        "colab": {
          "base_uri": "https://localhost:8080/"
        },
        "id": "ywv57Ys9SEgT",
        "outputId": "97561f68-c863-449e-c913-b667ab5253db"
      },
      "outputs": [
        {
          "output_type": "execute_result",
          "data": {
            "text/plain": [
              "int"
            ]
          },
          "metadata": {},
          "execution_count": 41
        }
      ],
      "source": [
        "type(7)"
      ]
    },
    {
      "cell_type": "code",
      "execution_count": null,
      "metadata": {
        "editable": false,
        "tags": [],
        "id": "ZrU6yB5iSEgU"
      },
      "outputs": [],
      "source": [
        "type(4.1)"
      ]
    },
    {
      "cell_type": "code",
      "execution_count": 42,
      "metadata": {
        "editable": false,
        "tags": [],
        "colab": {
          "base_uri": "https://localhost:8080/"
        },
        "id": "29NbIGSOSEgU",
        "outputId": "846c5b25-4229-4735-cd77-96230131768d"
      },
      "outputs": [
        {
          "output_type": "execute_result",
          "data": {
            "text/plain": [
              "str"
            ]
          },
          "metadata": {},
          "execution_count": 42
        }
      ],
      "source": [
        "type('cachorro')"
      ]
    },
    {
      "cell_type": "markdown",
      "metadata": {
        "editable": false,
        "tags": [],
        "id": "bG49uUcvSEgU"
      },
      "source": [
        "Todo objeto é uma instância de uma __classe__, isto é, criado em memória a partir de uma especificação ditada pela classe. Uma classe é um tipo abstrato que define como o objeto deve ser. Em outras palavras, uma classe é como um molde para a criação de objetos de um mesmo tipo. A classe especifica os atributos e os métodos que cada objeto criado a partir dela deve ter.\n",
        "\n",
        "Os trechos de código acima mostram um objeto da classe int (para números inteiros) com valor 7, um objeto da classe float (para números de ponto flutuante) com valor 4.1 e um objeto da classe str (para strings) com valor 'cachorro'. Os valores desses objetos definem os seus estados. Além disso, a classe especifica um conjunto de funcionalidades (métodos) que os objetos devem ter. Por exemplo, números int e float podem ser somados, subtraídos e multiplicados, assim como strings podem ser concatendas (em breve exploraremos mais funcionalidades dos objetos strings)."
      ]
    },
    {
      "cell_type": "markdown",
      "metadata": {
        "editable": false,
        "tags": [],
        "id": "DSPvpO_PSEgU"
      },
      "source": [
        "### Variáveis ​​Referem-se a Objetos"
      ]
    },
    {
      "cell_type": "markdown",
      "metadata": {
        "editable": false,
        "tags": [],
        "id": "1vgAIDE7SEgV"
      },
      "source": [
        "Atribuir um objeto a uma variável vincula (associa) o nome dessa variável ao objeto. Uma vez vinculada, podemos usar a variável para acessar os atributos do objeto, bem como executar seus métodos."
      ]
    },
    {
      "cell_type": "code",
      "execution_count": null,
      "metadata": {
        "editable": false,
        "tags": [],
        "id": "gTMsyYFESEgV"
      },
      "outputs": [],
      "source": [
        "x = 7"
      ]
    },
    {
      "cell_type": "code",
      "execution_count": null,
      "metadata": {
        "editable": false,
        "tags": [],
        "id": "nuP4KSJrSEgV"
      },
      "outputs": [],
      "source": [
        "x + 10"
      ]
    },
    {
      "cell_type": "code",
      "execution_count": null,
      "metadata": {
        "editable": false,
        "tags": [],
        "id": "oEowaNF6SEgW"
      },
      "outputs": [],
      "source": [
        "x"
      ]
    },
    {
      "cell_type": "code",
      "execution_count": null,
      "metadata": {
        "editable": false,
        "tags": [],
        "id": "AkmlFOE3SEgW"
      },
      "outputs": [],
      "source": [
        "x = x + 10"
      ]
    },
    {
      "cell_type": "code",
      "execution_count": null,
      "metadata": {
        "editable": false,
        "tags": [],
        "id": "lWS1red6SEgW"
      },
      "outputs": [],
      "source": [
        "x"
      ]
    },
    {
      "cell_type": "code",
      "execution_count": 43,
      "metadata": {
        "editable": false,
        "tags": [],
        "colab": {
          "base_uri": "https://localhost:8080/",
          "height": 35
        },
        "id": "gf1QiyknSEgW",
        "outputId": "b9daf327-85a7-47aa-d7d8-5e89f169b748"
      },
      "outputs": [
        {
          "output_type": "execute_result",
          "data": {
            "text/plain": [
              "'ufmt'"
            ],
            "application/vnd.google.colaboratory.intrinsic+json": {
              "type": "string"
            }
          },
          "metadata": {},
          "execution_count": 43
        }
      ],
      "source": [
        "\"UFMT\".lower()"
      ]
    },
    {
      "cell_type": "markdown",
      "metadata": {
        "editable": false,
        "tags": [],
        "id": "uyPhiYQFSEgX"
      },
      "source": [
        "### Tipagem Dinâmica"
      ]
    },
    {
      "cell_type": "markdown",
      "metadata": {
        "editable": false,
        "tags": [],
        "id": "2maI-Da-SEgX"
      },
      "source": [
        "Python usa tipagem dinâmica. Isto significa que ele determina o tipo de objeto ao qual uma variável se refere durante a execução do programa. Podemos mostrar isso vinculando a variável `x` a diferentes objetos e verificando seus tipos. Note que a variável, por si só, não tem um tipo, mas adota o tipo do objeto ao qual ela está vinculada."
      ]
    },
    {
      "cell_type": "code",
      "execution_count": 44,
      "metadata": {
        "editable": false,
        "tags": [],
        "colab": {
          "base_uri": "https://localhost:8080/"
        },
        "id": "pZaVF-i1SEgX",
        "outputId": "da1d905b-ac74-4600-e22f-75ff5395c3f5"
      },
      "outputs": [
        {
          "output_type": "execute_result",
          "data": {
            "text/plain": [
              "int"
            ]
          },
          "metadata": {},
          "execution_count": 44
        }
      ],
      "source": [
        "type(x)"
      ]
    },
    {
      "cell_type": "code",
      "execution_count": 45,
      "metadata": {
        "editable": false,
        "tags": [],
        "id": "1b6H5iIHSEgX"
      },
      "outputs": [],
      "source": [
        "x = 4.1"
      ]
    },
    {
      "cell_type": "code",
      "execution_count": 46,
      "metadata": {
        "editable": false,
        "tags": [],
        "colab": {
          "base_uri": "https://localhost:8080/"
        },
        "id": "HSjEEENrSEgY",
        "outputId": "b1436fb9-c6da-448f-8c63-62326bae1828"
      },
      "outputs": [
        {
          "output_type": "execute_result",
          "data": {
            "text/plain": [
              "float"
            ]
          },
          "metadata": {},
          "execution_count": 46
        }
      ],
      "source": [
        "type(x)"
      ]
    },
    {
      "cell_type": "code",
      "execution_count": 47,
      "metadata": {
        "editable": false,
        "tags": [],
        "id": "GEvg7qWkSEgY"
      },
      "outputs": [],
      "source": [
        "x = 'cachorro'"
      ]
    },
    {
      "cell_type": "code",
      "execution_count": 48,
      "metadata": {
        "editable": false,
        "tags": [],
        "colab": {
          "base_uri": "https://localhost:8080/"
        },
        "id": "7h-er_eaSEgY",
        "outputId": "964803e0-fe29-4c8f-98a2-0a5fa50c33ba"
      },
      "outputs": [
        {
          "output_type": "execute_result",
          "data": {
            "text/plain": [
              "str"
            ]
          },
          "metadata": {},
          "execution_count": 48
        }
      ],
      "source": [
        "type(x)"
      ]
    },
    {
      "cell_type": "markdown",
      "metadata": {
        "editable": false,
        "tags": [],
        "id": "DnpisMngSEgY"
      },
      "source": [
        "### Coleta Automática de Lixo"
      ]
    },
    {
      "cell_type": "markdown",
      "metadata": {
        "editable": false,
        "tags": [],
        "id": "RIZFfVzCSEgY"
      },
      "source": [
        "Python cria objetos na memória e os remove da memória conforme necessário. Neste ponto, após a execução dos trechos de código anteriores, a variável `x` se refere a um objeto do tipo str com valor 'cachorro'. O objeto float e inteiro dos trechos anteriores não estão vinculados a nenhuma variável. Como efeito, Python remove automaticamente esses objetos da memória. Esse processo, chamado coleta de lixo, visa liberar memória não utilizada (lixo) para possibilitar a criação de novos objetos."
      ]
    },
    {
      "cell_type": "markdown",
      "metadata": {
        "editable": false,
        "tags": [],
        "id": "Y2rLuuUJSEgZ"
      },
      "source": [
        "# Exercícios:"
      ]
    },
    {
      "cell_type": "markdown",
      "metadata": {
        "editable": false,
        "tags": [],
        "id": "UuLe4VQPSEgZ"
      },
      "source": [
        "1. Qual é o tipo do objeto retornado pela expressão 7.5 * 3?\n",
        "2. Faça um programa capaz de determinar o menor entre três valores inteiros fornecidos pelo usuário.\n",
        "3. Faça um programa capaz de determinar o maior entre três valores inteiros fornecidos pelo usuário.\n",
        "4. Pesquise sobre a função `min()` e `max()` de Python e refaça os exercícios 2 e 3 usando-as.\n",
        "5. Para cada um dos operadores aritméticos `+`, `-`, `*`, `/`, `//` e `**`, exiba o valor da expressão com `27.5` como operando esquerdo e `2` como operando direito.\n",
        "6. Solicite ao usuário o valor do raio de um círculo. Em seguida exiba o diâmetro, a circunferência e a área. Use o valor 3.14159 para π. Use as seguintes fórmulas ($r$ é o raio):\n",
        "* $diâmetro = 2r$\n",
        "* $circunferência = 2πr$\n",
        "* $área = πr^2$\n",
        "7. Use um ou mais comandos `if` para determinar se um número inteiro é ímpar ou par. *Dica: Um número par é múltiplo de 2*.\n",
        "8. Escreva um script que solicite três números inteiros ao usuário. Então, exiba a soma, a média, o produto, o menor e o maior dos números.\n",
        "9. Escreva um script que solicite ao usuário um número inteiro de cinco dígitos. Em seguida, separe o número em seus dígitos individuais e os imprima, separados entre si por três espaços. Por exemplo, se o usuário digitar o número 42339, o script deverá imprimir 4   2   3   3   9. Suponha que o usuário entre com o número correto de dígitos. *Dica: Use as operações de divisão inteira e módulo para separar os dígitos*.\n",
        "10. Escreva um script que solicite três números de ponto flutuante diferentes para o usuário. Em seguida, exiba os números em ordem crescente. Lembre-se de que um conjunto de instruções if pode conter mais de uma instrução. Prove que seu script funciona executando-o em todas as seis ordenações possíveis dos números. **Desafio extra**: Seu script funciona com números duplicados?\n",
        "11. Alguns consultores de investimentos dizem que é razoável esperar um retorno de 7% ao ano no longo prazo no mercado de ações. Solicite ao usuário o valor investido e calcule quanto dinheiro ele terá após 10, 20 e 30 anos. Use a seguinte fórmula para determinar esses valores: $a = p(1 + r)^n$ onde\n",
        "$p$ é o valor original investido, $r$ é a taxa de retorno anual (7%), $n$ é o número de anos (10, 20 ou 30) e\n",
        "$a$ é o valor obtido no final do *enésimo* ano."
      ]
    }
  ],
  "metadata": {
    "kernelspec": {
      "display_name": "Python 3 (ipykernel)",
      "language": "python",
      "name": "python3"
    },
    "language_info": {
      "codemirror_mode": {
        "name": "ipython",
        "version": 3
      },
      "file_extension": ".py",
      "mimetype": "text/x-python",
      "name": "python",
      "nbconvert_exporter": "python",
      "pygments_lexer": "ipython3",
      "version": "3.11.2"
    },
    "colab": {
      "provenance": [],
      "include_colab_link": true
    }
  },
  "nbformat": 4,
  "nbformat_minor": 0
}